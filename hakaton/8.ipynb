# 8. Cоздать новый признак диапазонов возрасного равновесия на основе признака Age, т.к. 
# это поможет разделить пожилых людей на группы условно равновесного состояния 
# (смертность повышается в определенные периоды времени между 70 и 80 годами, 
# и в другие моменты резко снижается) для следующих интервалов: 
# {(...,70](70,72],(72,74],(74,76],(76,78],(80,..)}

# data analysis and wrangling
import pandas as pd
import numpy as np
import random as rnd

# visualization
import seaborn as sns
import matplotlib.pyplot as plt
%matplotlib inline

train_df = pd.read_csv('./data_longevity/train_longevity.csv')
test_df = pd.read_csv('./data_longevity/test_longevity.csv')
combine = [train_df, test_df]

train_df.loc[(train_df['Age'] <= '70')] = 'A'
train_df.loc[(train_df['Age'] > '70' && (train_df['Age'] <= '72')] = 'B'
train_df.loc[(train_df['Age'] > '72' && (train_df['Age'] <= '74')] = 'C'
train_df.loc[(train_df['Age'] > '74' && (train_df['Age'] <= '76')] = 'D'
train_df.loc[(train_df['Age'] > '76' && (train_df['Age'] <= '78')] = 'E'
train_df.loc[(train_df['Age'] > '80')] = 'F'

test_df.loc[(train_df['Age'] <= '70')] = 'A'
test_df.loc[(train_df['Age'] > '70' && (train_df['Age'] <= '72')] = 'B'
test_df.loc[(train_df['Age'] > '72' && (train_df['Age'] <= '74')] = 'C'
test_df.loc[(train_df['Age'] > '74' && (train_df['Age'] <= '76')] = 'D'
test_df.loc[(train_df['Age'] > '76' && (train_df['Age'] <= '78')] = 'E'
test_df.loc[(train_df['Age'] > '80')] = 'F'

#combine = [train_df, test_df]
combine
